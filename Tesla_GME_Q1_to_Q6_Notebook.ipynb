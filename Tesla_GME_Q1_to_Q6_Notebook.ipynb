{
  "cells": [
    {
      "cell_type": "markdown",
      "metadata": {
        "id": "view-in-github",
        "colab_type": "text"
      },
      "source": [
        "<a href=\"https://colab.research.google.com/github/daucel/Proyecto1/blob/main/Tesla_GME_Q1_to_Q6_Notebook.ipynb\" target=\"_parent\"><img src=\"https://colab.research.google.com/assets/colab-badge.svg\" alt=\"Open In Colab\"/></a>"
      ]
    },
    {
      "cell_type": "markdown",
      "id": "355aebc5",
      "metadata": {
        "id": "355aebc5"
      },
      "source": [
        "\n",
        "# Tesla and GameStop Stock Analysis — Q1 to Q6\n",
        "\n",
        ".\n"
      ]
    },
    {
      "cell_type": "markdown",
      "id": "9b560312",
      "metadata": {
        "id": "9b560312"
      },
      "source": [
        "## Setup"
      ]
    },
    {
      "cell_type": "code",
      "execution_count": null,
      "id": "2002ce26",
      "metadata": {
        "id": "2002ce26"
      },
      "outputs": [],
      "source": [
        "\n",
        "# If needed, uncomment to install:\n",
        "# !pip install yfinance requests beautifulsoup4 lxml plotly pandas\n",
        "\n",
        "import re, json\n",
        "import pandas as pd\n",
        "import yfinance as yf\n",
        "import requests\n",
        "from bs4 import BeautifulSoup\n",
        "from io import StringIO\n",
        "import plotly.graph_objects as go\n",
        "\n",
        "pd.set_option('display.max_columns', None)\n",
        "pd.set_option('display.width', 140)\n",
        "print(\"✅ Libraries ready\")\n"
      ]
    },
    {
      "cell_type": "markdown",
      "id": "c264089a",
      "metadata": {
        "id": "c264089a"
      },
      "source": [
        "## Helper Functions"
      ]
    },
    {
      "cell_type": "code",
      "execution_count": null,
      "id": "18c02615",
      "metadata": {
        "id": "18c02615"
      },
      "outputs": [],
      "source": [
        "\n",
        "def scrape_macrotrends_quarterly_revenue_fast(ticker, slug):\n",
        "    \"\"\"Scrape quarterly revenue from Macrotrends by extracting the embedded JSON in a script tag.\"\"\"\n",
        "    url = f\"https://www.macrotrends.net/stocks/charts/{ticker}/{slug}/revenue\"\n",
        "    html = requests.get(url, headers={\"User-Agent\": \"Mozilla/5.0\"}, timeout=30).text\n",
        "\n",
        "    # Primary: exact variable 'quarterly_revenue'\n",
        "    m = re.search(r\"var\\s+quarterly_revenue\\s*=\\s*(\\[.*?\\]);\", html, re.S)\n",
        "    if not m:\n",
        "        # Fallback: any JSON-like array containing 'revenue' keys\n",
        "        m = re.search(r\"(\\[\\s*{[^\\]]+\\brevenue\\b[^\\]]+\\])\", html, re.S)\n",
        "    if not m:\n",
        "        raise RuntimeError(\"Quarterly revenue JSON not found on page.\")\n",
        "\n",
        "    data = json.loads(m.group(1))\n",
        "    df = pd.DataFrame(data)\n",
        "\n",
        "    # Normalize columns\n",
        "    date_col = \"date\" if \"date\" in df.columns else (\"Date\" if \"Date\" in df.columns else None)\n",
        "    rev_col  = \"revenue\" if \"revenue\" in df.columns else (\"Revenue\" if \"Revenue\" in df.columns else None)\n",
        "    if not date_col or not rev_col:\n",
        "        raise RuntimeError(\"Unexpected JSON structure for revenue.\")\n",
        "\n",
        "    df = df[[date_col, rev_col]].rename(columns={date_col: \"Date\", rev_col: \"Revenue\"})\n",
        "    df[\"Date\"] = pd.to_datetime(df[\"Date\"], errors=\"coerce\")\n",
        "    df[\"Revenue\"] = pd.to_numeric(df[\"Revenue\"].astype(str).str.replace(r\"[$,]\", \"\", regex=True), errors=\"coerce\")\n",
        "    df = df.dropna().sort_values(\"Date\").reset_index(drop=True)\n",
        "    return df\n",
        "\n",
        "def yf_quarterly_revenue(ticker):\n",
        "    \"\"\"Fallback: derive quarterly revenue from yfinance fundamentals (income statement).\"\"\"\n",
        "    q = yf.Ticker(ticker).quarterly_income_stmt.T\n",
        "    for col in [\"Total Revenue\", \"TotalRevenue\", \"Revenue\"]:\n",
        "        if col in q.columns:\n",
        "            df = (q[[col]]\n",
        "                  .reset_index()\n",
        "                  .rename(columns={\"index\": \"Date\", col: \"Revenue\"}))\n",
        "            df[\"Date\"] = pd.to_datetime(df[\"Date\"], errors=\"coerce\")\n",
        "            df = df.dropna().sort_values(\"Date\").reset_index(drop=True)\n",
        "            return df\n",
        "    raise RuntimeError(\"Revenue column not found in yfinance fundamentals.\")\n",
        "\n",
        "def make_graph(stock_data, title):\n",
        "    fig = go.Figure(data=go.Scatter(x=stock_data[\"Date\"], y=stock_data[\"Close\"], mode=\"lines\", name=\"Close\"))\n",
        "    fig.update_layout(title=title, xaxis_title=\"Date\", yaxis_title=\"Close Price (USD)\", template=\"plotly_white\", height=500)\n",
        "    fig.show()\n"
      ]
    },
    {
      "cell_type": "markdown",
      "id": "e90b0c8a",
      "metadata": {
        "id": "e90b0c8a"
      },
      "source": [
        "## Q1 — Use yfinance to Extract Tesla Stock Data"
      ]
    },
    {
      "cell_type": "code",
      "execution_count": null,
      "id": "b1eef082",
      "metadata": {
        "id": "b1eef082"
      },
      "outputs": [],
      "source": [
        "\n",
        "# Download Tesla stock data\n",
        "tesla = yf.Ticker(\"TSLA\")\n",
        "tesla_data = tesla.history(period=\"max\")\n",
        "# Reset the index\n",
        "tesla_data.reset_index(inplace=True)\n",
        "# Display first 5 rows for screenshot\n",
        "tesla_data.head()\n"
      ]
    },
    {
      "cell_type": "markdown",
      "id": "d1cad4a6",
      "metadata": {
        "id": "d1cad4a6"
      },
      "source": [
        "## Q2 — Use Webscraping to Extract Tesla Revenue Data (show last 5 rows)"
      ]
    },
    {
      "cell_type": "code",
      "execution_count": null,
      "id": "921c224a",
      "metadata": {
        "id": "921c224a"
      },
      "outputs": [],
      "source": [
        "\n",
        "# Attempt robust web scraping; fallback to yfinance fundamentals if scraping fails\n",
        "try:\n",
        "    tesla_revenue = scrape_macrotrends_quarterly_revenue_fast(\"TSLA\", \"tesla\")\n",
        "except Exception as e:\n",
        "    print(\"Scraper failed, using yfinance fundamentals fallback. Reason:\", e)\n",
        "    tesla_revenue = yf_quarterly_revenue(\"TSLA\")\n",
        "\n",
        "# Show last five rows for screenshot\n",
        "tesla_revenue.tail()\n"
      ]
    },
    {
      "cell_type": "markdown",
      "id": "4a193648",
      "metadata": {
        "id": "4a193648"
      },
      "source": [
        "## Q3 — Use yfinance to Extract GameStop Stock Data"
      ]
    },
    {
      "cell_type": "code",
      "execution_count": null,
      "id": "3986d370",
      "metadata": {
        "id": "3986d370"
      },
      "outputs": [],
      "source": [
        "\n",
        "# Download GameStop stock data\n",
        "gme = yf.Ticker(\"GME\")\n",
        "gme_data = gme.history(period=\"max\")\n",
        "# Reset the index\n",
        "gme_data.reset_index(inplace=True)\n",
        "# Display first 5 rows for screenshot\n",
        "gme_data.head()\n"
      ]
    },
    {
      "cell_type": "markdown",
      "id": "f20c3399",
      "metadata": {
        "id": "f20c3399"
      },
      "source": [
        "## Q4 — Use Webscraping to Extract GME Revenue Data (show last 5 rows)"
      ]
    },
    {
      "cell_type": "code",
      "execution_count": null,
      "id": "18378c58",
      "metadata": {
        "id": "18378c58"
      },
      "outputs": [],
      "source": [
        "\n",
        "# Attempt robust web scraping; fallback to yfinance fundamentals if scraping fails\n",
        "try:\n",
        "    gme_revenue = scrape_macrotrends_quarterly_revenue_fast(\"GME\", \"gamestop\")\n",
        "except Exception as e:\n",
        "    print(\"Scraper failed, using yfinance fundamentals fallback. Reason:\", e)\n",
        "    gme_revenue = yf_quarterly_revenue(\"GME\")\n",
        "\n",
        "# Show last five rows for screenshot\n",
        "gme_revenue.tail()\n"
      ]
    },
    {
      "cell_type": "markdown",
      "id": "a4836788",
      "metadata": {
        "id": "a4836788"
      },
      "source": [
        "## Q5 — Plot Tesla Stock Graph"
      ]
    },
    {
      "cell_type": "code",
      "execution_count": null,
      "id": "78543f0b",
      "metadata": {
        "id": "78543f0b"
      },
      "outputs": [],
      "source": [
        "\n",
        "make_graph(tesla_data, \"Tesla (TSLA) — Close Price Over Time\")\n"
      ]
    },
    {
      "cell_type": "markdown",
      "id": "0becca5a",
      "metadata": {
        "id": "0becca5a"
      },
      "source": [
        "## Q6 — Plot GameStop Stock Graph"
      ]
    },
    {
      "cell_type": "code",
      "execution_count": null,
      "id": "cb01faf1",
      "metadata": {
        "id": "cb01faf1"
      },
      "outputs": [],
      "source": [
        "\n",
        "make_graph(gme_data, \"GameStop (GME) — Close Price Over Time\")\n"
      ]
    }
  ],
  "metadata": {
    "colab": {
      "provenance": [],
      "include_colab_link": true
    }
  },
  "nbformat": 4,
  "nbformat_minor": 5
}