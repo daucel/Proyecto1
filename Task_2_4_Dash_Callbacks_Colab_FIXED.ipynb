{
  "cells": [
    {
      "cell_type": "markdown",
      "metadata": {
        "id": "view-in-github",
        "colab_type": "text"
      },
      "source": [
        "<a href=\"https://colab.research.google.com/github/daucel/Proyecto1/blob/main/Task_2_4_Dash_Callbacks_Colab_FIXED.ipynb\" target=\"_parent\"><img src=\"https://colab.research.google.com/assets/colab-badge.svg\" alt=\"Open In Colab\"/></a>"
      ]
    },
    {
      "cell_type": "markdown",
      "metadata": {
        "id": "I7FTWczJf4EH"
      },
      "source": [
        "# Task 2.4 — Dash Callbacks (Colab-Ready, External Mode)\n",
        "\n",
        "This notebook builds a small Dash app that meets the rubric:\n",
        "- **Callback 1** toggles the *input container* (shows **Year** dropdown for Yearly report or **Vehicle Type** dropdown for Recession report).\n",
        "- **Callback 2** renders the graph in the *output container* based on selections.\n",
        "\n",
        "**Note:** Uses external mode to avoid inline deprecation errors in Colab."
      ],
      "id": "I7FTWczJf4EH"
    },
    {
      "cell_type": "code",
      "execution_count": 2,
      "metadata": {
        "colab": {
          "base_uri": "https://localhost:8080/"
        },
        "id": "7pcpBT3wf4EI",
        "outputId": "4bfdb6b9-1fe2-48fc-e33b-628e111c3eac"
      },
      "outputs": [
        {
          "output_type": "stream",
          "name": "stdout",
          "text": [
            "\u001b[?25l   \u001b[90m━━━━━━━━━━━━━━━━━━━━━━━━━━━━━━━━━━━━━━━━\u001b[0m \u001b[32m0.0/7.9 MB\u001b[0m \u001b[31m?\u001b[0m eta \u001b[36m-:--:--\u001b[0m\r\u001b[2K   \u001b[91m━━━━━━\u001b[0m\u001b[91m╸\u001b[0m\u001b[90m━━━━━━━━━━━━━━━━━━━━━━━━━━━━━━━━━\u001b[0m \u001b[32m1.4/7.9 MB\u001b[0m \u001b[31m40.2 MB/s\u001b[0m eta \u001b[36m0:00:01\u001b[0m\r\u001b[2K   \u001b[91m━━━━━━━━━━━━━━━━━━━━━━━━━━━━━━━━━━━\u001b[0m\u001b[91m╸\u001b[0m\u001b[90m━━━━\u001b[0m \u001b[32m7.1/7.9 MB\u001b[0m \u001b[31m101.7 MB/s\u001b[0m eta \u001b[36m0:00:01\u001b[0m\r\u001b[2K   \u001b[91m━━━━━━━━━━━━━━━━━━━━━━━━━━━━━━━━━━━━━━━\u001b[0m\u001b[91m╸\u001b[0m \u001b[32m7.9/7.9 MB\u001b[0m \u001b[31m103.3 MB/s\u001b[0m eta \u001b[36m0:00:01\u001b[0m\r\u001b[2K   \u001b[90m━━━━━━━━━━━━━━━━━━━━━━━━━━━━━━━━━━━━━━━━\u001b[0m \u001b[32m7.9/7.9 MB\u001b[0m \u001b[31m71.6 MB/s\u001b[0m eta \u001b[36m0:00:00\u001b[0m\n",
            "\u001b[?25h\u001b[?25l   \u001b[90m━━━━━━━━━━━━━━━━━━━━━━━━━━━━━━━━━━━━━━━━\u001b[0m \u001b[32m0.0/1.6 MB\u001b[0m \u001b[31m?\u001b[0m eta \u001b[36m-:--:--\u001b[0m\r\u001b[2K   \u001b[90m━━━━━━━━━━━━━━━━━━━━━━━━━━━━━━━━━━━━━━━━\u001b[0m \u001b[32m1.6/1.6 MB\u001b[0m \u001b[31m51.4 MB/s\u001b[0m eta \u001b[36m0:00:00\u001b[0m\n",
            "\u001b[?25h"
          ]
        }
      ],
      "source": [
        "# Install dependencies in Colab\n",
        "!pip -q install jupyter-dash plotly pandas"
      ],
      "id": "7pcpBT3wf4EI"
    },
    {
      "cell_type": "code",
      "execution_count": 3,
      "metadata": {
        "colab": {
          "base_uri": "https://localhost:8080/",
          "height": 402
        },
        "id": "RIsVj5ILf4EJ",
        "outputId": "134b0f22-cebe-4b1b-c16c-bac83523c16a"
      },
      "outputs": [
        {
          "output_type": "stream",
          "name": "stderr",
          "text": [
            "/usr/local/lib/python3.12/dist-packages/dash/dash.py:634: UserWarning:\n",
            "\n",
            "JupyterDash is deprecated, use Dash instead.\n",
            "See https://dash.plotly.com/dash-in-jupyter for more details.\n",
            "\n"
          ]
        },
        {
          "output_type": "error",
          "ename": "AttributeError",
          "evalue": "'super' object has no attribute 'run_server'",
          "traceback": [
            "\u001b[0;31m---------------------------------------------------------------------------\u001b[0m",
            "\u001b[0;31mAttributeError\u001b[0m                            Traceback (most recent call last)",
            "\u001b[0;32m/tmp/ipython-input-1896299905.py\u001b[0m in \u001b[0;36m<cell line: 0>\u001b[0;34m()\u001b[0m\n\u001b[1;32m     81\u001b[0m \u001b[0;34m\u001b[0m\u001b[0m\n\u001b[1;32m     82\u001b[0m \u001b[0;31m# Launch (external URL to avoid inline deprecation)\u001b[0m\u001b[0;34m\u001b[0m\u001b[0;34m\u001b[0m\u001b[0m\n\u001b[0;32m---> 83\u001b[0;31m \u001b[0mapp\u001b[0m\u001b[0;34m.\u001b[0m\u001b[0mrun_server\u001b[0m\u001b[0;34m(\u001b[0m\u001b[0mmode\u001b[0m\u001b[0;34m=\u001b[0m\u001b[0;34m'external'\u001b[0m\u001b[0;34m,\u001b[0m \u001b[0mdebug\u001b[0m\u001b[0;34m=\u001b[0m\u001b[0;32mFalse\u001b[0m\u001b[0;34m)\u001b[0m\u001b[0;34m\u001b[0m\u001b[0;34m\u001b[0m\u001b[0m\n\u001b[0m",
            "\u001b[0;32m/usr/local/lib/python3.12/dist-packages/jupyter_dash/jupyter_app.py\u001b[0m in \u001b[0;36mrun_server\u001b[0;34m(self, mode, width, height, inline_exceptions, **kwargs)\u001b[0m\n\u001b[1;32m    174\u001b[0m         \"\"\"\n\u001b[1;32m    175\u001b[0m         \u001b[0;31m# Get superclass run_server method\u001b[0m\u001b[0;34m\u001b[0m\u001b[0;34m\u001b[0m\u001b[0m\n\u001b[0;32m--> 176\u001b[0;31m         \u001b[0msuper_run_server\u001b[0m \u001b[0;34m=\u001b[0m \u001b[0msuper\u001b[0m\u001b[0;34m(\u001b[0m\u001b[0mJupyterDash\u001b[0m\u001b[0;34m,\u001b[0m \u001b[0mself\u001b[0m\u001b[0;34m)\u001b[0m\u001b[0;34m.\u001b[0m\u001b[0mrun_server\u001b[0m\u001b[0;34m\u001b[0m\u001b[0;34m\u001b[0m\u001b[0m\n\u001b[0m\u001b[1;32m    177\u001b[0m \u001b[0;34m\u001b[0m\u001b[0m\n\u001b[1;32m    178\u001b[0m         \u001b[0;32mif\u001b[0m \u001b[0;32mnot\u001b[0m \u001b[0mJupyterDash\u001b[0m\u001b[0;34m.\u001b[0m\u001b[0m_in_ipython\u001b[0m\u001b[0;34m:\u001b[0m\u001b[0;34m\u001b[0m\u001b[0;34m\u001b[0m\u001b[0m\n",
            "\u001b[0;31mAttributeError\u001b[0m: 'super' object has no attribute 'run_server'"
          ]
        }
      ],
      "source": [
        "from jupyter_dash import JupyterDash\n",
        "from dash import dcc, html, Input, Output\n",
        "import plotly.express as px\n",
        "import pandas as pd\n",
        "\n",
        "# Sample dataset\n",
        "df = pd.DataFrame({\n",
        "    'Year':  [2010, 2011, 2012, 2013, 2014, 2015, 2016],\n",
        "    'Sales': [100, 120,  90,  150,  130,  170,  160],\n",
        "    'Unemployment': [7.5, 7.8, 8.1, 7.0, 6.8, 6.5, 6.3],\n",
        "    'Vehicle_Type': ['Sedan','SUV','Sedan','SUV','Truck','Sedan','SUV']\n",
        "})\n",
        "\n",
        "# Build app\n",
        "app = JupyterDash(__name__)\n",
        "app.layout = html.Div([\n",
        "    html.H2('Automobile Sales Statistics Dashboard', style={'textAlign':'center','color':'blue'}),\n",
        "\n",
        "    html.Label('Select Report Type:'),\n",
        "    dcc.Dropdown(\n",
        "        id='report-type',\n",
        "        options=[{'label':'Recession Report','value':'recession'},\n",
        "                 {'label':'Yearly Report','value':'yearly'}],\n",
        "        value='recession', clearable=False\n",
        "    ),\n",
        "    html.Br(),\n",
        "\n",
        "    # Input container with both controls; we toggle visibility\n",
        "    html.Div([\n",
        "        html.Div([\n",
        "            html.Label('Year'),\n",
        "            dcc.Dropdown(\n",
        "                id='year-dropdown',\n",
        "                options=[{'label':str(y),'value':y} for y in sorted(df['Year'].unique())],\n",
        "                value=int(df['Year'].min()), clearable=False\n",
        "            )\n",
        "        ], id='year-block', style={'display':'none'}),\n",
        "\n",
        "        html.Div([\n",
        "            html.Label('Vehicle Type'),\n",
        "            dcc.Dropdown(\n",
        "                id='vehicle-dropdown',\n",
        "                options=[{'label':v,'value':v} for v in sorted(df['Vehicle_Type'].unique())],\n",
        "                value='Sedan', clearable=False\n",
        "            )\n",
        "        ], id='vehicle-block', style={'display':'block'})\n",
        "    ], id='input-container'),\n",
        "\n",
        "    html.Br(),\n",
        "    html.Div(id='output-container')\n",
        "])\n",
        "\n",
        "# Callback 1: Toggle which input shows\n",
        "@app.callback(\n",
        "    Output('year-block','style'),\n",
        "    Output('vehicle-block','style'),\n",
        "    Input('report-type','value')\n",
        ")\n",
        "def toggle_inputs(report_type):\n",
        "    if report_type == 'yearly':\n",
        "        return {'display':'block'}, {'display':'none'}\n",
        "    return {'display':'none'}, {'display':'block'}\n",
        "\n",
        "# Callback 2: Render graph in output container\n",
        "@app.callback(\n",
        "    Output('output-container','children'),\n",
        "    Input('report-type','value'),\n",
        "    Input('year-dropdown','value'),\n",
        "    Input('vehicle-dropdown','value')\n",
        ")\n",
        "def update_output(report_type, year_value, vehicle_value):\n",
        "    if report_type == 'yearly' and year_value is not None:\n",
        "        dff = df[df['Year']==year_value]\n",
        "        fig = px.bar(dff, x='Vehicle_Type', y='Sales', title=f'Yearly Report — {year_value}')\n",
        "        return dcc.Graph(figure=fig)\n",
        "    elif report_type == 'recession' and vehicle_value is not None:\n",
        "        dff = df[df['Vehicle_Type']==vehicle_value]\n",
        "        fig = px.line(dff, x='Year', y='Sales', title=f'Recession Report — {vehicle_value}')\n",
        "        return dcc.Graph(figure=fig)\n",
        "    return 'Select inputs to see the report.'\n",
        "\n",
        "# Launch (external URL to avoid inline deprecation)\n",
        "app.run_server(mode='external', debug=False)\n"
      ],
      "id": "RIsVj5ILf4EJ"
    }
  ],
  "metadata": {
    "kernelspec": {
      "display_name": "Python 3",
      "language": "python",
      "name": "python3"
    },
    "language_info": {
      "name": "python",
      "version": ""
    },
    "colab": {
      "provenance": [],
      "include_colab_link": true
    }
  },
  "nbformat": 4,
  "nbformat_minor": 5
}